{
 "cells": [
  {
   "cell_type": "code",
   "execution_count": null,
   "id": "38db11a2-f634-43f3-93a0-d2f8a26673e5",
   "metadata": {},
   "outputs": [],
   "source": []
  }
 ],
 "metadata": {
  "kernelspec": {
   "display_name": "",
   "name": ""
  },
  "language_info": {
   "name": ""
  }
 },
 "nbformat": 4,
 "nbformat_minor": 5
}
