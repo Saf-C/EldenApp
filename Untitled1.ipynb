{
 "cells": [
  {
   "cell_type": "code",
   "execution_count": 1,
   "id": "16c82fac-f501-4f25-92b1-18f20daeb0ee",
   "metadata": {},
   "outputs": [
    {
     "name": "stdout",
     "output_type": "stream",
     "text": [
      "Successfully flattened JSON and exported to 'ml_presets_ready.csv'\n"
     ]
    }
   ],
   "source": [
    "import pandas as pd\n",
    "import json\n",
    "\n",
    "# Define the path to your JSON file. It looks like 'build_presets_export.json' is in the root directory.\n",
    "json_file_path = 'build_presets_export.json'\n",
    "\n",
    "# Load the JSON data\n",
    "with open(json_file_path, 'r') as f:\n",
    "    data = json.load(f)\n",
    "\n",
    "# Flatten the nested 'slots' data\n",
    "flattened_data = []\n",
    "for build in data:\n",
    "    build_id = build['build_id']\n",
    "    name = build['name']\n",
    "    description = build['description']\n",
    "    slots = build['slots']\n",
    "    \n",
    "    # Create a new dictionary for the flattened row\n",
    "    row = {\n",
    "        'build_id': build_id,\n",
    "        'name': name,\n",
    "        'description': description,\n",
    "    }\n",
    "    \n",
    "    # Iterate through the slots and add the item info to the row\n",
    "    for slot_name, item_info in slots.items():\n",
    "        # Ensure item_info is not None before accessing its keys\n",
    "        if item_info and item_info['item_id'] is not None:\n",
    "            row[f'{slot_name}_item_id'] = item_info.get('item_id')\n",
    "            row[f'{slot_name}_item_name'] = item_info.get('item_name')\n",
    "            row[f'{slot_name}_item_type'] = item_info.get('item_type')\n",
    "        else:\n",
    "            # Handle empty slots by setting values to None\n",
    "            row[f'{slot_name}_item_id'] = None\n",
    "            row[f'{slot_name}_item_name'] = None\n",
    "            row[f'{slot_name}_item_type'] = None\n",
    "            \n",
    "    flattened_data.append(row)\n",
    "\n",
    "# Convert the flattened list of dictionaries to a pandas DataFrame\n",
    "df = pd.DataFrame(flattened_data)\n",
    "\n",
    "# Export the DataFrame to a CSV file\n",
    "output_csv_path = 'ml_presets_ready.csv'\n",
    "df.to_csv(output_csv_path, index=False)\n",
    "\n",
    "print(f\"Successfully flattened JSON and exported to '{output_csv_path}'\")"
   ]
  },
  {
   "cell_type": "code",
   "execution_count": null,
   "id": "e1372e3c-6096-4f0d-9591-d73e61e7513a",
   "metadata": {},
   "outputs": [],
   "source": []
  }
 ],
 "metadata": {
  "kernelspec": {
   "display_name": "Python 3 (ipykernel)",
   "language": "python",
   "name": "python3"
  },
  "language_info": {
   "codemirror_mode": {
    "name": "ipython",
    "version": 3
   },
   "file_extension": ".py",
   "mimetype": "text/x-python",
   "name": "python",
   "nbconvert_exporter": "python",
   "pygments_lexer": "ipython3",
   "version": "3.12.3"
  }
 },
 "nbformat": 4,
 "nbformat_minor": 5
}
