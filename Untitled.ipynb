{
 "cells": [
  {
   "cell_type": "code",
   "execution_count": 1,
   "id": "ac21193d-fe5a-4896-8923-a49279849836",
   "metadata": {},
   "outputs": [
    {
     "name": "stdout",
     "output_type": "stream",
     "text": [
      "Total builds: 218\n",
      "Sample build: {'build_id': 1, 'name': 'Strength', 'description': '', 'slots': {'RH1': {'item_id': 660, 'item_name': \"Bloodhound's Fang\", 'item_type': 'curved_sword'}, 'RH2': {'item_id': None, 'item_name': None, 'item_type': None}, 'LH1': {'item_id': None, 'item_name': None, 'item_type': None}, 'LH2': {'item_id': None, 'item_name': None, 'item_type': None}, 'Helms': {'item_id': 41, 'item_name': 'Bull-Goat Helm', 'item_type': 'head'}, 'Chest Armor': {'item_id': 42, 'item_name': 'Bull-Goat Armor', 'item_type': 'body'}, 'Gauntlets': {'item_id': 43, 'item_name': 'Bull-Goat Gauntlets', 'item_type': 'arms'}, 'Greaves': {'item_id': 44, 'item_name': 'Bull-Goat Greaves', 'item_type': 'legs'}, 'Talisman1': {'item_id': 1006, 'item_name': \"Perfumer's Talisman\", 'item_type': 'talisman'}, 'Talisman2': {'item_id': 982, 'item_name': \"Millicent's Prosthesis\", 'item_type': 'talisman'}, 'Talisman3': {'item_id': 989, 'item_name': 'Spear Talisman', 'item_type': 'talisman'}, 'Talisman4': {'item_id': 1011, 'item_name': \"Old Lord's Talisman\", 'item_type': 'talisman'}, 'Spell1': {'item_id': None, 'item_name': None, 'item_type': None}, 'Spell2': {'item_id': None, 'item_name': None, 'item_type': None}, 'Spell3': {'item_id': None, 'item_name': None, 'item_type': None}, 'Spell4': {'item_id': None, 'item_name': None, 'item_type': None}, 'AshOfWar1': {'item_id': 3, 'item_name': 'Ash of War: Mighty Shot', 'item_type': 'ash_of_war'}, 'AshOfWar2': {'item_id': None, 'item_name': None, 'item_type': None}}}\n"
     ]
    }
   ],
   "source": [
    "import json\n",
    "\n",
    "with open('build_presets_export.json') as f:\n",
    "    data = json.load(f)\n",
    "\n",
    "print(f\"Total builds: {len(data)}\")\n",
    "print(\"Sample build:\", data[0])\n",
    "\n"
   ]
  },
  {
   "cell_type": "code",
   "execution_count": 2,
   "id": "013c3d31-4420-4bde-bcd6-5183af84d022",
   "metadata": {},
   "outputs": [
    {
     "ename": "ModuleNotFoundError",
     "evalue": "No module named 'pandas'",
     "output_type": "error",
     "traceback": [
      "\u001b[31m---------------------------------------------------------------------------\u001b[39m",
      "\u001b[31mModuleNotFoundError\u001b[39m                       Traceback (most recent call last)",
      "\u001b[36mCell\u001b[39m\u001b[36m \u001b[39m\u001b[32mIn[2]\u001b[39m\u001b[32m, line 1\u001b[39m\n\u001b[32m----> \u001b[39m\u001b[32m1\u001b[39m \u001b[38;5;28;01mimport\u001b[39;00m\u001b[38;5;250m \u001b[39m\u001b[34;01mpandas\u001b[39;00m\u001b[38;5;250m \u001b[39m\u001b[38;5;28;01mas\u001b[39;00m\u001b[38;5;250m \u001b[39m\u001b[34;01mpd\u001b[39;00m\n\u001b[32m      3\u001b[39m \u001b[38;5;28;01mdef\u001b[39;00m\u001b[38;5;250m \u001b[39m\u001b[34mflatten_preset\u001b[39m(preset):\n\u001b[32m      4\u001b[39m     flat = {\n\u001b[32m      5\u001b[39m         \u001b[33m'\u001b[39m\u001b[33mbuild_id\u001b[39m\u001b[33m'\u001b[39m: preset.get(\u001b[33m'\u001b[39m\u001b[33mbuild_id\u001b[39m\u001b[33m'\u001b[39m),\n\u001b[32m      6\u001b[39m         \u001b[33m'\u001b[39m\u001b[33mname\u001b[39m\u001b[33m'\u001b[39m: preset.get(\u001b[33m'\u001b[39m\u001b[33mname\u001b[39m\u001b[33m'\u001b[39m),\n\u001b[32m      7\u001b[39m         \u001b[33m'\u001b[39m\u001b[33mdescription\u001b[39m\u001b[33m'\u001b[39m: preset.get(\u001b[33m'\u001b[39m\u001b[33mdescription\u001b[39m\u001b[33m'\u001b[39m)\n\u001b[32m      8\u001b[39m     }\n",
      "\u001b[31mModuleNotFoundError\u001b[39m: No module named 'pandas'"
     ]
    }
   ],
   "source": [
    "import pandas as pd\n",
    "\n",
    "def flatten_preset(preset):\n",
    "    flat = {\n",
    "        'build_id': preset.get('build_id'),\n",
    "        'name': preset.get('name'),\n",
    "        'description': preset.get('description')\n",
    "    }\n",
    "    for slot, value in preset.get('slots', {}).items():\n",
    "        # If value is a dict, extract item name; if None, keep as None\n",
    "        flat[slot] = value['item_name'] if isinstance(value, dict) and 'item_name' in value else None\n",
    "    return flat\n",
    "\n",
    "flat_samples = [flatten_preset(p) for p in data]\n",
    "df = pd.DataFrame(flat_samples)\n",
    "df.head()\n"
   ]
  },
  {
   "cell_type": "code",
   "execution_count": 3,
   "id": "bbfe6672-427c-4708-afe7-db30ed4181cf",
   "metadata": {},
   "outputs": [
    {
     "ename": "SyntaxError",
     "evalue": "invalid syntax (1048225456.py, line 1)",
     "output_type": "error",
     "traceback": [
      "  \u001b[36mCell\u001b[39m\u001b[36m \u001b[39m\u001b[32mIn[3]\u001b[39m\u001b[32m, line 1\u001b[39m\n\u001b[31m    \u001b[39m\u001b[31mpip install pandas\u001b[39m\n        ^\n\u001b[31mSyntaxError\u001b[39m\u001b[31m:\u001b[39m invalid syntax\n"
     ]
    }
   ],
   "source": [
    "pip install pandas\n",
    "\n"
   ]
  },
  {
   "cell_type": "code",
   "execution_count": 1,
   "id": "c669589c-b522-4f79-8bce-cc7dfd70325f",
   "metadata": {},
   "outputs": [
    {
     "ename": "NameError",
     "evalue": "name 'data' is not defined",
     "output_type": "error",
     "traceback": [
      "\u001b[31m---------------------------------------------------------------------------\u001b[39m",
      "\u001b[31mNameError\u001b[39m                                 Traceback (most recent call last)",
      "\u001b[36mCell\u001b[39m\u001b[36m \u001b[39m\u001b[32mIn[1]\u001b[39m\u001b[32m, line 14\u001b[39m\n\u001b[32m     11\u001b[39m         flat[slot] = value[\u001b[33m'\u001b[39m\u001b[33mitem_name\u001b[39m\u001b[33m'\u001b[39m] \u001b[38;5;28;01mif\u001b[39;00m \u001b[38;5;28misinstance\u001b[39m(value, \u001b[38;5;28mdict\u001b[39m) \u001b[38;5;129;01mand\u001b[39;00m \u001b[33m'\u001b[39m\u001b[33mitem_name\u001b[39m\u001b[33m'\u001b[39m \u001b[38;5;129;01min\u001b[39;00m value \u001b[38;5;28;01melse\u001b[39;00m \u001b[38;5;28;01mNone\u001b[39;00m\n\u001b[32m     12\u001b[39m     \u001b[38;5;28;01mreturn\u001b[39;00m flat\n\u001b[32m---> \u001b[39m\u001b[32m14\u001b[39m flat_samples = [flatten_preset(p) \u001b[38;5;28;01mfor\u001b[39;00m p \u001b[38;5;129;01min\u001b[39;00m \u001b[43mdata\u001b[49m]\n\u001b[32m     15\u001b[39m df = pd.DataFrame(flat_samples)\n\u001b[32m     16\u001b[39m df.head()\n",
      "\u001b[31mNameError\u001b[39m: name 'data' is not defined"
     ]
    }
   ],
   "source": [
    "import pandas as pd\n",
    "\n",
    "def flatten_preset(preset):\n",
    "    flat = {\n",
    "        'build_id': preset.get('build_id'),\n",
    "        'name': preset.get('name'),\n",
    "        'description': preset.get('description')\n",
    "    }\n",
    "    for slot, value in preset.get('slots', {}).items():\n",
    "        # If value is a dict, extract item name; if None, keep as None\n",
    "        flat[slot] = value['item_name'] if isinstance(value, dict) and 'item_name' in value else None\n",
    "    return flat\n",
    "\n",
    "flat_samples = [flatten_preset(p) for p in data]\n",
    "df = pd.DataFrame(flat_samples)\n",
    "df.head()\n"
   ]
  },
  {
   "cell_type": "code",
   "execution_count": 2,
   "id": "d157a20b-c449-4121-96ea-20baff6bf960",
   "metadata": {},
   "outputs": [
    {
     "name": "stdout",
     "output_type": "stream",
     "text": [
      "Total builds: 218\n",
      "Sample build: {'build_id': 1, 'name': 'Strength', 'description': '', 'slots': {'RH1': {'item_id': 660, 'item_name': \"Bloodhound's Fang\", 'item_type': 'curved_sword'}, 'RH2': {'item_id': None, 'item_name': None, 'item_type': None}, 'LH1': {'item_id': None, 'item_name': None, 'item_type': None}, 'LH2': {'item_id': None, 'item_name': None, 'item_type': None}, 'Helms': {'item_id': 41, 'item_name': 'Bull-Goat Helm', 'item_type': 'head'}, 'Chest Armor': {'item_id': 42, 'item_name': 'Bull-Goat Armor', 'item_type': 'body'}, 'Gauntlets': {'item_id': 43, 'item_name': 'Bull-Goat Gauntlets', 'item_type': 'arms'}, 'Greaves': {'item_id': 44, 'item_name': 'Bull-Goat Greaves', 'item_type': 'legs'}, 'Talisman1': {'item_id': 1006, 'item_name': \"Perfumer's Talisman\", 'item_type': 'talisman'}, 'Talisman2': {'item_id': 982, 'item_name': \"Millicent's Prosthesis\", 'item_type': 'talisman'}, 'Talisman3': {'item_id': 989, 'item_name': 'Spear Talisman', 'item_type': 'talisman'}, 'Talisman4': {'item_id': 1011, 'item_name': \"Old Lord's Talisman\", 'item_type': 'talisman'}, 'Spell1': {'item_id': None, 'item_name': None, 'item_type': None}, 'Spell2': {'item_id': None, 'item_name': None, 'item_type': None}, 'Spell3': {'item_id': None, 'item_name': None, 'item_type': None}, 'Spell4': {'item_id': None, 'item_name': None, 'item_type': None}, 'AshOfWar1': {'item_id': 3, 'item_name': 'Ash of War: Mighty Shot', 'item_type': 'ash_of_war'}, 'AshOfWar2': {'item_id': None, 'item_name': None, 'item_type': None}}}\n"
     ]
    }
   ],
   "source": [
    "import json\n",
    "\n",
    "with open('build_presets_export.json') as f:\n",
    "    data = json.load(f)\n",
    "\n",
    "print(f\"Total builds: {len(data)}\")\n",
    "print(\"Sample build:\", data[0])\n"
   ]
  },
  {
   "cell_type": "code",
   "execution_count": 3,
   "id": "bb206422-1db8-4217-9bbb-03a80e14ee34",
   "metadata": {},
   "outputs": [
    {
     "data": {
      "text/html": [
       "<div>\n",
       "<style scoped>\n",
       "    .dataframe tbody tr th:only-of-type {\n",
       "        vertical-align: middle;\n",
       "    }\n",
       "\n",
       "    .dataframe tbody tr th {\n",
       "        vertical-align: top;\n",
       "    }\n",
       "\n",
       "    .dataframe thead th {\n",
       "        text-align: right;\n",
       "    }\n",
       "</style>\n",
       "<table border=\"1\" class=\"dataframe\">\n",
       "  <thead>\n",
       "    <tr style=\"text-align: right;\">\n",
       "      <th></th>\n",
       "      <th>build_id</th>\n",
       "      <th>name</th>\n",
       "      <th>description</th>\n",
       "      <th>RH1</th>\n",
       "      <th>RH2</th>\n",
       "      <th>LH1</th>\n",
       "      <th>LH2</th>\n",
       "      <th>Helms</th>\n",
       "      <th>Chest Armor</th>\n",
       "      <th>Gauntlets</th>\n",
       "      <th>...</th>\n",
       "      <th>Spell1</th>\n",
       "      <th>Spell2</th>\n",
       "      <th>Spell3</th>\n",
       "      <th>Spell4</th>\n",
       "      <th>AshOfWar1</th>\n",
       "      <th>AshOfWar2</th>\n",
       "      <th>Helm</th>\n",
       "      <th>Chest</th>\n",
       "      <th>Ash_of_War1</th>\n",
       "      <th>Ash_of_War2</th>\n",
       "    </tr>\n",
       "  </thead>\n",
       "  <tbody>\n",
       "    <tr>\n",
       "      <th>0</th>\n",
       "      <td>1</td>\n",
       "      <td>Strength</td>\n",
       "      <td></td>\n",
       "      <td>Bloodhound's Fang</td>\n",
       "      <td>NaN</td>\n",
       "      <td>None</td>\n",
       "      <td>None</td>\n",
       "      <td>Bull-Goat Helm</td>\n",
       "      <td>Bull-Goat Armor</td>\n",
       "      <td>Bull-Goat Gauntlets</td>\n",
       "      <td>...</td>\n",
       "      <td>None</td>\n",
       "      <td>None</td>\n",
       "      <td>None</td>\n",
       "      <td>None</td>\n",
       "      <td>Ash of War: Mighty Shot</td>\n",
       "      <td>None</td>\n",
       "      <td>NaN</td>\n",
       "      <td>NaN</td>\n",
       "      <td>NaN</td>\n",
       "      <td>NaN</td>\n",
       "    </tr>\n",
       "    <tr>\n",
       "      <th>1</th>\n",
       "      <td>2</td>\n",
       "      <td>Dexterity</td>\n",
       "      <td>Multiplied by threeeeeeeee</td>\n",
       "      <td>Nagakiba</td>\n",
       "      <td>NaN</td>\n",
       "      <td>NaN</td>\n",
       "      <td>NaN</td>\n",
       "      <td>Radahn's Redmane Helm</td>\n",
       "      <td>Radahn's Lion Armor</td>\n",
       "      <td>Radahn's Gauntlets</td>\n",
       "      <td>...</td>\n",
       "      <td>Bloodflame Blade</td>\n",
       "      <td>NaN</td>\n",
       "      <td>NaN</td>\n",
       "      <td>NaN</td>\n",
       "      <td>Ash of War: Double Slash</td>\n",
       "      <td>NaN</td>\n",
       "      <td>NaN</td>\n",
       "      <td>NaN</td>\n",
       "      <td>NaN</td>\n",
       "      <td>NaN</td>\n",
       "    </tr>\n",
       "    <tr>\n",
       "      <th>2</th>\n",
       "      <td>3</td>\n",
       "      <td>Dual Magma Blade build</td>\n",
       "      <td>Dual Magma Blade build that has an ash of war ...</td>\n",
       "      <td>Magma Blade</td>\n",
       "      <td>NaN</td>\n",
       "      <td>Magma Blade</td>\n",
       "      <td>NaN</td>\n",
       "      <td>NaN</td>\n",
       "      <td>NaN</td>\n",
       "      <td>Radahn's Gauntlets</td>\n",
       "      <td>...</td>\n",
       "      <td>Golden Vow</td>\n",
       "      <td>Flame, Grant Me Strength</td>\n",
       "      <td>NaN</td>\n",
       "      <td>NaN</td>\n",
       "      <td>NaN</td>\n",
       "      <td>NaN</td>\n",
       "      <td>Radahn's Redmane Helm</td>\n",
       "      <td>Radahn's Lion Armor</td>\n",
       "      <td>NaN</td>\n",
       "      <td>NaN</td>\n",
       "    </tr>\n",
       "    <tr>\n",
       "      <th>3</th>\n",
       "      <td>4</td>\n",
       "      <td>Icerind Hatchet build</td>\n",
       "      <td>Icerind Hatchet main way of dealing damage is ...</td>\n",
       "      <td>Icerind Hatchet</td>\n",
       "      <td>NaN</td>\n",
       "      <td>Magma Blade</td>\n",
       "      <td>NaN</td>\n",
       "      <td>NaN</td>\n",
       "      <td>NaN</td>\n",
       "      <td>Black Knife Gauntlets</td>\n",
       "      <td>...</td>\n",
       "      <td>Flame, Grant Me Strength</td>\n",
       "      <td>Golden Vow</td>\n",
       "      <td>NaN</td>\n",
       "      <td>NaN</td>\n",
       "      <td>NaN</td>\n",
       "      <td>NaN</td>\n",
       "      <td>Black Knife Hood</td>\n",
       "      <td>Black Knife Armor</td>\n",
       "      <td>Ash of War: Hoarfrost Stomp</td>\n",
       "      <td>NaN</td>\n",
       "    </tr>\n",
       "    <tr>\n",
       "      <th>4</th>\n",
       "      <td>5</td>\n",
       "      <td>Dual Icerind Hatchet build</td>\n",
       "      <td>Dual Icerind Hatchet that does pure physical d...</td>\n",
       "      <td>Icerind Hatchet</td>\n",
       "      <td>NaN</td>\n",
       "      <td>Icerind Hatchet</td>\n",
       "      <td>NaN</td>\n",
       "      <td>NaN</td>\n",
       "      <td>NaN</td>\n",
       "      <td>Black Knife Gauntlets</td>\n",
       "      <td>...</td>\n",
       "      <td>Golden Vow</td>\n",
       "      <td>Flame, Grant Me Strength</td>\n",
       "      <td>NaN</td>\n",
       "      <td>NaN</td>\n",
       "      <td>NaN</td>\n",
       "      <td>NaN</td>\n",
       "      <td>Black Knife Hood</td>\n",
       "      <td>Black Knife Armor</td>\n",
       "      <td>Ash of War: Hoarfrost Stomp</td>\n",
       "      <td>Ash of War: Storm Stomp</td>\n",
       "    </tr>\n",
       "  </tbody>\n",
       "</table>\n",
       "<p>5 rows × 25 columns</p>\n",
       "</div>"
      ],
      "text/plain": [
       "   build_id                        name  \\\n",
       "0         1                    Strength   \n",
       "1         2                   Dexterity   \n",
       "2         3      Dual Magma Blade build   \n",
       "3         4       Icerind Hatchet build   \n",
       "4         5  Dual Icerind Hatchet build   \n",
       "\n",
       "                                         description                RH1  RH2  \\\n",
       "0                                                     Bloodhound's Fang  NaN   \n",
       "1                         Multiplied by threeeeeeeee           Nagakiba  NaN   \n",
       "2  Dual Magma Blade build that has an ash of war ...        Magma Blade  NaN   \n",
       "3  Icerind Hatchet main way of dealing damage is ...    Icerind Hatchet  NaN   \n",
       "4  Dual Icerind Hatchet that does pure physical d...    Icerind Hatchet  NaN   \n",
       "\n",
       "               LH1   LH2                  Helms          Chest Armor  \\\n",
       "0             None  None         Bull-Goat Helm      Bull-Goat Armor   \n",
       "1              NaN   NaN  Radahn's Redmane Helm  Radahn's Lion Armor   \n",
       "2      Magma Blade   NaN                    NaN                  NaN   \n",
       "3      Magma Blade   NaN                    NaN                  NaN   \n",
       "4  Icerind Hatchet   NaN                    NaN                  NaN   \n",
       "\n",
       "               Gauntlets  ...                    Spell1  \\\n",
       "0    Bull-Goat Gauntlets  ...                      None   \n",
       "1     Radahn's Gauntlets  ...          Bloodflame Blade   \n",
       "2     Radahn's Gauntlets  ...                Golden Vow   \n",
       "3  Black Knife Gauntlets  ...  Flame, Grant Me Strength   \n",
       "4  Black Knife Gauntlets  ...                Golden Vow   \n",
       "\n",
       "                     Spell2 Spell3 Spell4                 AshOfWar1 AshOfWar2  \\\n",
       "0                      None   None   None   Ash of War: Mighty Shot      None   \n",
       "1                       NaN    NaN    NaN  Ash of War: Double Slash       NaN   \n",
       "2  Flame, Grant Me Strength    NaN    NaN                       NaN       NaN   \n",
       "3                Golden Vow    NaN    NaN                       NaN       NaN   \n",
       "4  Flame, Grant Me Strength    NaN    NaN                       NaN       NaN   \n",
       "\n",
       "                    Helm                Chest                  Ash_of_War1  \\\n",
       "0                    NaN                  NaN                          NaN   \n",
       "1                    NaN                  NaN                          NaN   \n",
       "2  Radahn's Redmane Helm  Radahn's Lion Armor                          NaN   \n",
       "3       Black Knife Hood    Black Knife Armor  Ash of War: Hoarfrost Stomp   \n",
       "4       Black Knife Hood    Black Knife Armor  Ash of War: Hoarfrost Stomp   \n",
       "\n",
       "               Ash_of_War2  \n",
       "0                      NaN  \n",
       "1                      NaN  \n",
       "2                      NaN  \n",
       "3                      NaN  \n",
       "4  Ash of War: Storm Stomp  \n",
       "\n",
       "[5 rows x 25 columns]"
      ]
     },
     "execution_count": 3,
     "metadata": {},
     "output_type": "execute_result"
    }
   ],
   "source": [
    "import pandas as pd\n",
    "\n",
    "def flatten_preset(preset):\n",
    "    flat = {\n",
    "        'build_id': preset.get('build_id'),\n",
    "        'name': preset.get('name'),\n",
    "        'description': preset.get('description')\n",
    "    }\n",
    "    for slot, value in preset.get('slots', {}).items():\n",
    "        # If value is a dict, extract item name; if None, keep as None\n",
    "        flat[slot] = value['item_name'] if isinstance(value, dict) and 'item_name' in value else None\n",
    "    return flat\n",
    "\n",
    "flat_samples = [flatten_preset(p) for p in data]\n",
    "df = pd.DataFrame(flat_samples)\n",
    "df.head()\n"
   ]
  },
  {
   "cell_type": "code",
   "execution_count": 4,
   "id": "4275b047-eb68-411c-9afb-298bd4715aeb",
   "metadata": {},
   "outputs": [],
   "source": [
    "df.to_csv('ml_presets.csv', index=False)\n"
   ]
  },
  {
   "cell_type": "code",
   "execution_count": 5,
   "id": "cb3a0ed8-397d-4571-a7f6-18ae01883629",
   "metadata": {},
   "outputs": [
    {
     "ename": "ModuleNotFoundError",
     "evalue": "No module named 'openpyxl'",
     "output_type": "error",
     "traceback": [
      "\u001b[31m---------------------------------------------------------------------------\u001b[39m",
      "\u001b[31mModuleNotFoundError\u001b[39m                       Traceback (most recent call last)",
      "\u001b[36mCell\u001b[39m\u001b[36m \u001b[39m\u001b[32mIn[5]\u001b[39m\u001b[32m, line 1\u001b[39m\n\u001b[32m----> \u001b[39m\u001b[32m1\u001b[39m \u001b[43mdf\u001b[49m\u001b[43m.\u001b[49m\u001b[43mto_excel\u001b[49m\u001b[43m(\u001b[49m\u001b[33;43m'\u001b[39;49m\u001b[33;43mbuild_presets_ml_ready.xlsx\u001b[39;49m\u001b[33;43m'\u001b[39;49m\u001b[43m,\u001b[49m\u001b[43m \u001b[49m\u001b[43mindex\u001b[49m\u001b[43m=\u001b[49m\u001b[38;5;28;43;01mFalse\u001b[39;49;00m\u001b[43m)\u001b[49m\n",
      "\u001b[36mFile \u001b[39m\u001b[32m~\\Documents\\Coding\\Python\\Py.Dj Projects\\myproject\\venv312\\Lib\\site-packages\\pandas\\util\\_decorators.py:333\u001b[39m, in \u001b[36mdeprecate_nonkeyword_arguments.<locals>.decorate.<locals>.wrapper\u001b[39m\u001b[34m(*args, **kwargs)\u001b[39m\n\u001b[32m    327\u001b[39m \u001b[38;5;28;01mif\u001b[39;00m \u001b[38;5;28mlen\u001b[39m(args) > num_allow_args:\n\u001b[32m    328\u001b[39m     warnings.warn(\n\u001b[32m    329\u001b[39m         msg.format(arguments=_format_argument_list(allow_args)),\n\u001b[32m    330\u001b[39m         \u001b[38;5;167;01mFutureWarning\u001b[39;00m,\n\u001b[32m    331\u001b[39m         stacklevel=find_stack_level(),\n\u001b[32m    332\u001b[39m     )\n\u001b[32m--> \u001b[39m\u001b[32m333\u001b[39m \u001b[38;5;28;01mreturn\u001b[39;00m \u001b[43mfunc\u001b[49m\u001b[43m(\u001b[49m\u001b[43m*\u001b[49m\u001b[43margs\u001b[49m\u001b[43m,\u001b[49m\u001b[43m \u001b[49m\u001b[43m*\u001b[49m\u001b[43m*\u001b[49m\u001b[43mkwargs\u001b[49m\u001b[43m)\u001b[49m\n",
      "\u001b[36mFile \u001b[39m\u001b[32m~\\Documents\\Coding\\Python\\Py.Dj Projects\\myproject\\venv312\\Lib\\site-packages\\pandas\\core\\generic.py:2436\u001b[39m, in \u001b[36mNDFrame.to_excel\u001b[39m\u001b[34m(self, excel_writer, sheet_name, na_rep, float_format, columns, header, index, index_label, startrow, startcol, engine, merge_cells, inf_rep, freeze_panes, storage_options, engine_kwargs)\u001b[39m\n\u001b[32m   2423\u001b[39m \u001b[38;5;28;01mfrom\u001b[39;00m\u001b[38;5;250m \u001b[39m\u001b[34;01mpandas\u001b[39;00m\u001b[34;01m.\u001b[39;00m\u001b[34;01mio\u001b[39;00m\u001b[34;01m.\u001b[39;00m\u001b[34;01mformats\u001b[39;00m\u001b[34;01m.\u001b[39;00m\u001b[34;01mexcel\u001b[39;00m\u001b[38;5;250m \u001b[39m\u001b[38;5;28;01mimport\u001b[39;00m ExcelFormatter\n\u001b[32m   2425\u001b[39m formatter = ExcelFormatter(\n\u001b[32m   2426\u001b[39m     df,\n\u001b[32m   2427\u001b[39m     na_rep=na_rep,\n\u001b[32m   (...)\u001b[39m\u001b[32m   2434\u001b[39m     inf_rep=inf_rep,\n\u001b[32m   2435\u001b[39m )\n\u001b[32m-> \u001b[39m\u001b[32m2436\u001b[39m \u001b[43mformatter\u001b[49m\u001b[43m.\u001b[49m\u001b[43mwrite\u001b[49m\u001b[43m(\u001b[49m\n\u001b[32m   2437\u001b[39m \u001b[43m    \u001b[49m\u001b[43mexcel_writer\u001b[49m\u001b[43m,\u001b[49m\n\u001b[32m   2438\u001b[39m \u001b[43m    \u001b[49m\u001b[43msheet_name\u001b[49m\u001b[43m=\u001b[49m\u001b[43msheet_name\u001b[49m\u001b[43m,\u001b[49m\n\u001b[32m   2439\u001b[39m \u001b[43m    \u001b[49m\u001b[43mstartrow\u001b[49m\u001b[43m=\u001b[49m\u001b[43mstartrow\u001b[49m\u001b[43m,\u001b[49m\n\u001b[32m   2440\u001b[39m \u001b[43m    \u001b[49m\u001b[43mstartcol\u001b[49m\u001b[43m=\u001b[49m\u001b[43mstartcol\u001b[49m\u001b[43m,\u001b[49m\n\u001b[32m   2441\u001b[39m \u001b[43m    \u001b[49m\u001b[43mfreeze_panes\u001b[49m\u001b[43m=\u001b[49m\u001b[43mfreeze_panes\u001b[49m\u001b[43m,\u001b[49m\n\u001b[32m   2442\u001b[39m \u001b[43m    \u001b[49m\u001b[43mengine\u001b[49m\u001b[43m=\u001b[49m\u001b[43mengine\u001b[49m\u001b[43m,\u001b[49m\n\u001b[32m   2443\u001b[39m \u001b[43m    \u001b[49m\u001b[43mstorage_options\u001b[49m\u001b[43m=\u001b[49m\u001b[43mstorage_options\u001b[49m\u001b[43m,\u001b[49m\n\u001b[32m   2444\u001b[39m \u001b[43m    \u001b[49m\u001b[43mengine_kwargs\u001b[49m\u001b[43m=\u001b[49m\u001b[43mengine_kwargs\u001b[49m\u001b[43m,\u001b[49m\n\u001b[32m   2445\u001b[39m \u001b[43m\u001b[49m\u001b[43m)\u001b[49m\n",
      "\u001b[36mFile \u001b[39m\u001b[32m~\\Documents\\Coding\\Python\\Py.Dj Projects\\myproject\\venv312\\Lib\\site-packages\\pandas\\io\\formats\\excel.py:943\u001b[39m, in \u001b[36mExcelFormatter.write\u001b[39m\u001b[34m(self, writer, sheet_name, startrow, startcol, freeze_panes, engine, storage_options, engine_kwargs)\u001b[39m\n\u001b[32m    941\u001b[39m     need_save = \u001b[38;5;28;01mFalse\u001b[39;00m\n\u001b[32m    942\u001b[39m \u001b[38;5;28;01melse\u001b[39;00m:\n\u001b[32m--> \u001b[39m\u001b[32m943\u001b[39m     writer = \u001b[43mExcelWriter\u001b[49m\u001b[43m(\u001b[49m\n\u001b[32m    944\u001b[39m \u001b[43m        \u001b[49m\u001b[43mwriter\u001b[49m\u001b[43m,\u001b[49m\n\u001b[32m    945\u001b[39m \u001b[43m        \u001b[49m\u001b[43mengine\u001b[49m\u001b[43m=\u001b[49m\u001b[43mengine\u001b[49m\u001b[43m,\u001b[49m\n\u001b[32m    946\u001b[39m \u001b[43m        \u001b[49m\u001b[43mstorage_options\u001b[49m\u001b[43m=\u001b[49m\u001b[43mstorage_options\u001b[49m\u001b[43m,\u001b[49m\n\u001b[32m    947\u001b[39m \u001b[43m        \u001b[49m\u001b[43mengine_kwargs\u001b[49m\u001b[43m=\u001b[49m\u001b[43mengine_kwargs\u001b[49m\u001b[43m,\u001b[49m\n\u001b[32m    948\u001b[39m \u001b[43m    \u001b[49m\u001b[43m)\u001b[49m\n\u001b[32m    949\u001b[39m     need_save = \u001b[38;5;28;01mTrue\u001b[39;00m\n\u001b[32m    951\u001b[39m \u001b[38;5;28;01mtry\u001b[39;00m:\n",
      "\u001b[36mFile \u001b[39m\u001b[32m~\\Documents\\Coding\\Python\\Py.Dj Projects\\myproject\\venv312\\Lib\\site-packages\\pandas\\io\\excel\\_openpyxl.py:57\u001b[39m, in \u001b[36mOpenpyxlWriter.__init__\u001b[39m\u001b[34m(self, path, engine, date_format, datetime_format, mode, storage_options, if_sheet_exists, engine_kwargs, **kwargs)\u001b[39m\n\u001b[32m     44\u001b[39m \u001b[38;5;28;01mdef\u001b[39;00m\u001b[38;5;250m \u001b[39m\u001b[34m__init__\u001b[39m(\n\u001b[32m     45\u001b[39m     \u001b[38;5;28mself\u001b[39m,\n\u001b[32m     46\u001b[39m     path: FilePath | WriteExcelBuffer | ExcelWriter,\n\u001b[32m   (...)\u001b[39m\u001b[32m     55\u001b[39m ) -> \u001b[38;5;28;01mNone\u001b[39;00m:\n\u001b[32m     56\u001b[39m     \u001b[38;5;66;03m# Use the openpyxl module as the Excel writer.\u001b[39;00m\n\u001b[32m---> \u001b[39m\u001b[32m57\u001b[39m     \u001b[38;5;28;01mfrom\u001b[39;00m\u001b[38;5;250m \u001b[39m\u001b[34;01mopenpyxl\u001b[39;00m\u001b[34;01m.\u001b[39;00m\u001b[34;01mworkbook\u001b[39;00m\u001b[38;5;250m \u001b[39m\u001b[38;5;28;01mimport\u001b[39;00m Workbook\n\u001b[32m     59\u001b[39m     engine_kwargs = combine_kwargs(engine_kwargs, kwargs)\n\u001b[32m     61\u001b[39m     \u001b[38;5;28msuper\u001b[39m().\u001b[34m__init__\u001b[39m(\n\u001b[32m     62\u001b[39m         path,\n\u001b[32m     63\u001b[39m         mode=mode,\n\u001b[32m   (...)\u001b[39m\u001b[32m     66\u001b[39m         engine_kwargs=engine_kwargs,\n\u001b[32m     67\u001b[39m     )\n",
      "\u001b[31mModuleNotFoundError\u001b[39m: No module named 'openpyxl'"
     ]
    }
   ],
   "source": [
    "df.to_excel('build_presets_ml_ready.xlsx', index=False)\n",
    "\n"
   ]
  },
  {
   "cell_type": "code",
   "execution_count": null,
   "id": "af84a54e-a682-4b53-84bb-a5de4719994b",
   "metadata": {},
   "outputs": [],
   "source": []
  }
 ],
 "metadata": {
  "kernelspec": {
   "display_name": "Python 3 (ipykernel)",
   "language": "python",
   "name": "python3"
  },
  "language_info": {
   "codemirror_mode": {
    "name": "ipython",
    "version": 3
   },
   "file_extension": ".py",
   "mimetype": "text/x-python",
   "name": "python",
   "nbconvert_exporter": "python",
   "pygments_lexer": "ipython3",
   "version": "3.12.3"
  }
 },
 "nbformat": 4,
 "nbformat_minor": 5
}
